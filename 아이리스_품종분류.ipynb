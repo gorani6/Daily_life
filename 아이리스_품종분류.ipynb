{
  "nbformat": 4,
  "nbformat_minor": 0,
  "metadata": {
    "colab": {
      "name": "아이리스 품종분류.ipynb",
      "provenance": [],
      "collapsed_sections": []
    },
    "kernelspec": {
      "name": "python3",
      "display_name": "Python 3"
    },
    "language_info": {
      "name": "python"
    }
  },
  "cells": [
    {
      "cell_type": "code",
      "metadata": {
        "id": "up8UYSoGpti8"
      },
      "source": [
        "import tensorflow as tf\n",
        "import pandas as pd"
      ],
      "execution_count": 1,
      "outputs": []
    },
    {
      "cell_type": "code",
      "metadata": {
        "colab": {
          "base_uri": "https://localhost:8080/",
          "height": 203
        },
        "id": "Ir0ZtMUl3zdw",
        "outputId": "8e59ff1a-1aaa-4de8-8233-158952e2b741"
      },
      "source": [
        "#데이터\n",
        "아이리스 = pd.read_csv('/content/drive/MyDrive/csv/iris.csv')\n",
        "아이리스.head()"
      ],
      "execution_count": 4,
      "outputs": [
        {
          "output_type": "execute_result",
          "data": {
            "text/html": [
              "<div>\n",
              "<style scoped>\n",
              "    .dataframe tbody tr th:only-of-type {\n",
              "        vertical-align: middle;\n",
              "    }\n",
              "\n",
              "    .dataframe tbody tr th {\n",
              "        vertical-align: top;\n",
              "    }\n",
              "\n",
              "    .dataframe thead th {\n",
              "        text-align: right;\n",
              "    }\n",
              "</style>\n",
              "<table border=\"1\" class=\"dataframe\">\n",
              "  <thead>\n",
              "    <tr style=\"text-align: right;\">\n",
              "      <th></th>\n",
              "      <th>꽃잎길이</th>\n",
              "      <th>꽃잎폭</th>\n",
              "      <th>꽃받침길이</th>\n",
              "      <th>꽃받침폭</th>\n",
              "      <th>품종</th>\n",
              "    </tr>\n",
              "  </thead>\n",
              "  <tbody>\n",
              "    <tr>\n",
              "      <th>0</th>\n",
              "      <td>5.1</td>\n",
              "      <td>3.5</td>\n",
              "      <td>1.4</td>\n",
              "      <td>0.2</td>\n",
              "      <td>setosa</td>\n",
              "    </tr>\n",
              "    <tr>\n",
              "      <th>1</th>\n",
              "      <td>4.9</td>\n",
              "      <td>3.0</td>\n",
              "      <td>1.4</td>\n",
              "      <td>0.2</td>\n",
              "      <td>setosa</td>\n",
              "    </tr>\n",
              "    <tr>\n",
              "      <th>2</th>\n",
              "      <td>4.7</td>\n",
              "      <td>3.2</td>\n",
              "      <td>1.3</td>\n",
              "      <td>0.2</td>\n",
              "      <td>setosa</td>\n",
              "    </tr>\n",
              "    <tr>\n",
              "      <th>3</th>\n",
              "      <td>4.6</td>\n",
              "      <td>3.1</td>\n",
              "      <td>1.5</td>\n",
              "      <td>0.2</td>\n",
              "      <td>setosa</td>\n",
              "    </tr>\n",
              "    <tr>\n",
              "      <th>4</th>\n",
              "      <td>5.0</td>\n",
              "      <td>3.6</td>\n",
              "      <td>1.4</td>\n",
              "      <td>0.2</td>\n",
              "      <td>setosa</td>\n",
              "    </tr>\n",
              "  </tbody>\n",
              "</table>\n",
              "</div>"
            ],
            "text/plain": [
              "   꽃잎길이  꽃잎폭  꽃받침길이  꽃받침폭      품종\n",
              "0   5.1  3.5    1.4   0.2  setosa\n",
              "1   4.9  3.0    1.4   0.2  setosa\n",
              "2   4.7  3.2    1.3   0.2  setosa\n",
              "3   4.6  3.1    1.5   0.2  setosa\n",
              "4   5.0  3.6    1.4   0.2  setosa"
            ]
          },
          "metadata": {
            "tags": []
          },
          "execution_count": 4
        }
      ]
    },
    {
      "cell_type": "code",
      "metadata": {
        "colab": {
          "base_uri": "https://localhost:8080/",
          "height": 203
        },
        "id": "vBshApAuCYu9",
        "outputId": "3faebd19-dffc-44e3-a54c-af0a3b913cee"
      },
      "source": [
        "#원핫인코딩\n",
        "인코딩 = pd.get_dummies(아이리스)\n",
        "인코딩.head()"
      ],
      "execution_count": 5,
      "outputs": [
        {
          "output_type": "execute_result",
          "data": {
            "text/html": [
              "<div>\n",
              "<style scoped>\n",
              "    .dataframe tbody tr th:only-of-type {\n",
              "        vertical-align: middle;\n",
              "    }\n",
              "\n",
              "    .dataframe tbody tr th {\n",
              "        vertical-align: top;\n",
              "    }\n",
              "\n",
              "    .dataframe thead th {\n",
              "        text-align: right;\n",
              "    }\n",
              "</style>\n",
              "<table border=\"1\" class=\"dataframe\">\n",
              "  <thead>\n",
              "    <tr style=\"text-align: right;\">\n",
              "      <th></th>\n",
              "      <th>꽃잎길이</th>\n",
              "      <th>꽃잎폭</th>\n",
              "      <th>꽃받침길이</th>\n",
              "      <th>꽃받침폭</th>\n",
              "      <th>품종_setosa</th>\n",
              "      <th>품종_versicolor</th>\n",
              "      <th>품종_virginica</th>\n",
              "    </tr>\n",
              "  </thead>\n",
              "  <tbody>\n",
              "    <tr>\n",
              "      <th>0</th>\n",
              "      <td>5.1</td>\n",
              "      <td>3.5</td>\n",
              "      <td>1.4</td>\n",
              "      <td>0.2</td>\n",
              "      <td>1</td>\n",
              "      <td>0</td>\n",
              "      <td>0</td>\n",
              "    </tr>\n",
              "    <tr>\n",
              "      <th>1</th>\n",
              "      <td>4.9</td>\n",
              "      <td>3.0</td>\n",
              "      <td>1.4</td>\n",
              "      <td>0.2</td>\n",
              "      <td>1</td>\n",
              "      <td>0</td>\n",
              "      <td>0</td>\n",
              "    </tr>\n",
              "    <tr>\n",
              "      <th>2</th>\n",
              "      <td>4.7</td>\n",
              "      <td>3.2</td>\n",
              "      <td>1.3</td>\n",
              "      <td>0.2</td>\n",
              "      <td>1</td>\n",
              "      <td>0</td>\n",
              "      <td>0</td>\n",
              "    </tr>\n",
              "    <tr>\n",
              "      <th>3</th>\n",
              "      <td>4.6</td>\n",
              "      <td>3.1</td>\n",
              "      <td>1.5</td>\n",
              "      <td>0.2</td>\n",
              "      <td>1</td>\n",
              "      <td>0</td>\n",
              "      <td>0</td>\n",
              "    </tr>\n",
              "    <tr>\n",
              "      <th>4</th>\n",
              "      <td>5.0</td>\n",
              "      <td>3.6</td>\n",
              "      <td>1.4</td>\n",
              "      <td>0.2</td>\n",
              "      <td>1</td>\n",
              "      <td>0</td>\n",
              "      <td>0</td>\n",
              "    </tr>\n",
              "  </tbody>\n",
              "</table>\n",
              "</div>"
            ],
            "text/plain": [
              "   꽃잎길이  꽃잎폭  꽃받침길이  꽃받침폭  품종_setosa  품종_versicolor  품종_virginica\n",
              "0   5.1  3.5    1.4   0.2          1              0             0\n",
              "1   4.9  3.0    1.4   0.2          1              0             0\n",
              "2   4.7  3.2    1.3   0.2          1              0             0\n",
              "3   4.6  3.1    1.5   0.2          1              0             0\n",
              "4   5.0  3.6    1.4   0.2          1              0             0"
            ]
          },
          "metadata": {
            "tags": []
          },
          "execution_count": 5
        }
      ]
    },
    {
      "cell_type": "code",
      "metadata": {
        "colab": {
          "base_uri": "https://localhost:8080/"
        },
        "id": "m0uslxgUC5Sy",
        "outputId": "1c59173d-f456-4dd9-b6a2-77914b9c8da4"
      },
      "source": [
        "print(인코딩.columns)"
      ],
      "execution_count": 6,
      "outputs": [
        {
          "output_type": "stream",
          "text": [
            "Index(['꽃잎길이', '꽃잎폭', '꽃받침길이', '꽃받침폭', '품종_setosa', '품종_versicolor',\n",
            "       '품종_virginica'],\n",
            "      dtype='object')\n"
          ],
          "name": "stdout"
        }
      ]
    },
    {
      "cell_type": "code",
      "metadata": {
        "colab": {
          "base_uri": "https://localhost:8080/"
        },
        "id": "pAgVd_J2CjZi",
        "outputId": "b1d12418-86fd-4a0c-abbc-31b89958089b"
      },
      "source": [
        "# 독립, 종속 변수\n",
        "독립 = 인코딩[['꽃잎길이', '꽃잎폭', '꽃받침길이', '꽃받침폭']]\n",
        "종속 = 인코딩[['품종_setosa', '품종_versicolor', '품종_virginica']]\n",
        "print(독립.shape, 종속.shape)"
      ],
      "execution_count": 7,
      "outputs": [
        {
          "output_type": "stream",
          "text": [
            "(150, 4) (150, 3)\n"
          ],
          "name": "stdout"
        }
      ]
    },
    {
      "cell_type": "code",
      "metadata": {
        "id": "sZpLtqimDQAM"
      },
      "source": [
        "x = tf.keras.layers.Input(shape=[4])\n",
        "y = tf.keras.layers.Dense(3, activation='softmax')(x)\n",
        "model = tf.keras.models.Model(x,y)\n",
        "model.compile(loss='categorical_crossentropy',\n",
        "              metrics='accuracy')"
      ],
      "execution_count": 8,
      "outputs": []
    },
    {
      "cell_type": "code",
      "metadata": {
        "colab": {
          "base_uri": "https://localhost:8080/"
        },
        "id": "rrcVA0pcD888",
        "outputId": "d34e9974-58d2-4a39-c5ad-ced6efcac622"
      },
      "source": [
        "model.fit(독립, 종속, epochs=10)"
      ],
      "execution_count": 14,
      "outputs": [
        {
          "output_type": "stream",
          "text": [
            "Epoch 1/10\n",
            "5/5 [==============================] - 0s 4ms/step - loss: 0.1263 - accuracy: 0.9733\n",
            "Epoch 2/10\n",
            "5/5 [==============================] - 0s 2ms/step - loss: 0.1263 - accuracy: 0.9733\n",
            "Epoch 3/10\n",
            "5/5 [==============================] - 0s 3ms/step - loss: 0.1261 - accuracy: 0.9733\n",
            "Epoch 4/10\n",
            "5/5 [==============================] - 0s 4ms/step - loss: 0.1265 - accuracy: 0.9733\n",
            "Epoch 5/10\n",
            "5/5 [==============================] - 0s 4ms/step - loss: 0.1261 - accuracy: 0.9733\n",
            "Epoch 6/10\n",
            "5/5 [==============================] - 0s 4ms/step - loss: 0.1261 - accuracy: 0.9733\n",
            "Epoch 7/10\n",
            "5/5 [==============================] - 0s 3ms/step - loss: 0.1260 - accuracy: 0.9733\n",
            "Epoch 8/10\n",
            "5/5 [==============================] - 0s 3ms/step - loss: 0.1262 - accuracy: 0.9733\n",
            "Epoch 9/10\n",
            "5/5 [==============================] - 0s 2ms/step - loss: 0.1258 - accuracy: 0.9733\n",
            "Epoch 10/10\n",
            "5/5 [==============================] - 0s 2ms/step - loss: 0.1256 - accuracy: 0.9733\n"
          ],
          "name": "stdout"
        },
        {
          "output_type": "execute_result",
          "data": {
            "text/plain": [
              "<tensorflow.python.keras.callbacks.History at 0x7ff026fa3d10>"
            ]
          },
          "metadata": {
            "tags": []
          },
          "execution_count": 14
        }
      ]
    },
    {
      "cell_type": "code",
      "metadata": {
        "colab": {
          "base_uri": "https://localhost:8080/"
        },
        "id": "8qwbnCNiEE5w",
        "outputId": "9ee69a28-0c21-4941-a268-c85928c06cbb"
      },
      "source": [
        "model.predict(독립[-5:])"
      ],
      "execution_count": 18,
      "outputs": [
        {
          "output_type": "execute_result",
          "data": {
            "text/plain": [
              "array([[2.2164556e-08, 7.3357381e-02, 9.2664260e-01],\n",
              "       [8.0900875e-08, 1.6025187e-01, 8.3974808e-01],\n",
              "       [1.2423405e-07, 1.7879041e-01, 8.2120949e-01],\n",
              "       [9.2135517e-09, 4.2559296e-02, 9.5744067e-01],\n",
              "       [2.3714313e-07, 2.0643395e-01, 7.9356581e-01]], dtype=float32)"
            ]
          },
          "metadata": {
            "tags": []
          },
          "execution_count": 18
        }
      ]
    },
    {
      "cell_type": "code",
      "metadata": {
        "colab": {
          "base_uri": "https://localhost:8080/"
        },
        "id": "Lofk_ls2EdJL",
        "outputId": "751aa349-03ec-425e-af85-7685fb8b53f0"
      },
      "source": [
        "print(종속[-5:])"
      ],
      "execution_count": 17,
      "outputs": [
        {
          "output_type": "stream",
          "text": [
            "     품종_setosa  품종_versicolor  품종_virginica\n",
            "145          0              0             1\n",
            "146          0              0             1\n",
            "147          0              0             1\n",
            "148          0              0             1\n",
            "149          0              0             1\n"
          ],
          "name": "stdout"
        }
      ]
    },
    {
      "cell_type": "code",
      "metadata": {
        "colab": {
          "base_uri": "https://localhost:8080/"
        },
        "id": "v_lZrr2iEuON",
        "outputId": "c0a0fa4b-d550-4c4a-f76a-aaab72ddb554"
      },
      "source": [
        "#가중치\n",
        "model.get_weights()"
      ],
      "execution_count": 19,
      "outputs": [
        {
          "output_type": "execute_result",
          "data": {
            "text/plain": [
              "[array([[ 1.6453358 ,  0.59656924, -0.85417324],\n",
              "        [ 3.338056  ,  0.6757549 , -0.5977241 ],\n",
              "        [-4.608752  , -0.23920368,  1.566598  ],\n",
              "        [-5.3418016 , -1.8666162 ,  2.472749  ]], dtype=float32),\n",
              " array([ 2.192471 ,  1.5038947, -1.7901776], dtype=float32)]"
            ]
          },
          "metadata": {
            "tags": []
          },
          "execution_count": 19
        }
      ]
    },
    {
      "cell_type": "code",
      "metadata": {
        "id": "BJCLXxz7E-dc"
      },
      "source": [
        ""
      ],
      "execution_count": null,
      "outputs": []
    }
  ]
}